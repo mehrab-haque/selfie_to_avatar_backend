{
  "nbformat": 4,
  "nbformat_minor": 0,
  "metadata": {
    "colab": {
      "private_outputs": true,
      "provenance": [],
      "collapsed_sections": [
        "xTo1C8aPUoOh",
        "rcoRX8OnVImS"
      ]
    },
    "kernelspec": {
      "name": "python3",
      "display_name": "Python 3"
    },
    "language_info": {
      "name": "python"
    },
    "accelerator": "GPU"
  },
  "cells": [
    {
      "cell_type": "code",
      "metadata": {
        "id": "VA_4CeWZCHLP"
      },
      "source": [
        "%cd /content\n",
        "!git clone https://github.com/neuralchen/SimSwap.git\n",
        "%cd /content/SimSwap/\n",
        "!git checkout main"
      ],
      "execution_count": null,
      "outputs": []
    },
    {
      "cell_type": "code",
      "metadata": {
        "id": "Y5K4au_UCkKn"
      },
      "source": [
        "!pip install -q torch==1.12.0\n",
        "!pip install insightface==0.2.1 onnxruntime moviepy > /dev/null\n",
        "!pip install googledrivedownloader > /dev/null\n",
        "!pip install imageio==2.4.1 > /dev/null"
      ],
      "execution_count": null,
      "outputs": []
    },
    {
      "cell_type": "code",
      "source": [
        "!pip install flask_ngrok"
      ],
      "metadata": {
        "id": "nchP-lM4L3IQ"
      },
      "execution_count": null,
      "outputs": []
    },
    {
      "cell_type": "code",
      "metadata": {
        "id": "BQGu8shAWOPE"
      },
      "source": [
        "%cd /content/SimSwap"
      ],
      "execution_count": null,
      "outputs": []
    },
    {
      "cell_type": "code",
      "metadata": {
        "id": "gLti1J0pEFjJ"
      },
      "source": [
        "from google_drive_downloader import GoogleDriveDownloader\n",
        "\n",
        "!wget -P ./arcface_model https://github.com/woctezuma/SimSwap-colab/releases/download/1.0/arcface_checkpoint.tar\n",
        "!wget https://github.com/neuralchen/SimSwap/releases/download/1.0/checkpoints.zip\n",
        "!wget -P ./parsing_model/checkpoint https://github.com/neuralchen/SimSwap/releases/download/1.0/79999_iter.pth\n",
        "!wget https://github.com/neuralchen/SimSwap/releases/download/512_beta/512.zip"
      ],
      "execution_count": null,
      "outputs": []
    },
    {
      "cell_type": "code",
      "metadata": {
        "id": "2iwPorp0Mnvw"
      },
      "source": [
        "!wget --no-check-certificate \\\n",
        " https://sh23tw.dm.files.1drv.com/y4mmGiIkNVigkSwOKDcV3nwMJulRGhbtHdkheehR5TArc52UjudUYNXAEvKCii2O5LAmzGCGK6IfleocxuDeoKxDZkNzDRSt4ZUlEt8GlSOpCXAFEkBwaZimtWGDRbpIGpb_pz9Nq5jATBQpezBS6G_UtspWTkgrXHHxhviV2nWy8APPx134zOZrUIbkSF6xnsqzs3uZ_SEX_m9Rey0ykpx9w \\\n",
        " -O antelope.zip"
      ],
      "execution_count": null,
      "outputs": []
    },
    {
      "cell_type": "code",
      "metadata": {
        "id": "lKAcJ4ngVEUV"
      },
      "source": [
        "!unzip ./checkpoints.zip  -d ./checkpoints\n",
        "\n",
        "!unzip 512.zip -d ./checkpoints\n",
        "\n",
        "!unzip antelope.zip -d ./insightface_func/models/"
      ],
      "execution_count": null,
      "outputs": []
    },
    {
      "cell_type": "code",
      "metadata": {
        "id": "f8SAi2SYSFmN"
      },
      "source": [
        "%cd /content\n",
        "\n",
        "!wget https://i.imgur.com/l5MGOws.jpeg -O starwars_meme.jpg"
      ],
      "execution_count": null,
      "outputs": []
    },
    {
      "cell_type": "code",
      "source": [
        "import numpy as np\n",
        "from flask import Flask, request, render_template, jsonify\n",
        "from flask_ngrok import run_with_ngrok\n",
        "import base64\n",
        "from PIL import Image\n",
        "import io\n",
        "import string\n",
        "import random\n",
        "\n",
        "app = Flask(__name__)\n",
        "run_with_ngrok(app)\n",
        "\n",
        "@app.route('/ping',methods=['GET'])\n",
        "def home():\n",
        "    print(\"hello\")\n",
        "    !pip install flask\n",
        "    return {\n",
        "        \"user\": \"John Doe\",\n",
        "    }\n",
        "\n",
        "def get_new_size(img_size,\n",
        "                 max_allowed_length = 1024):\n",
        "\n",
        "  if any(max_allowed_length < sz for sz in img_size):\n",
        "    long_length = max(img_size)\n",
        "    ratio = max_allowed_length / long_length\n",
        "  else:\n",
        "    ratio = 1.0\n",
        "\n",
        "  new_img_size = [\n",
        "                  int(ratio*sz)\n",
        "                  for sz in img_size\n",
        "                  ]\n",
        "\n",
        "  return tuple(new_img_size)\n",
        "\n",
        "@app.route('/avatar', methods=['POST'])\n",
        "def process_data():\n",
        "    req_data = request.get_json(force=True)\n",
        "    base64_string = req_data['base64'][23:]\n",
        "    image = base64.b64decode(base64_string)\n",
        "    random_string = ''.join(random.choices(string.ascii_uppercase +\n",
        "                             string.digits, k=8))      \n",
        "    fileName = random_string+'.jpg'\n",
        "    imagePath = '/content/'+fileName\n",
        "    img = Image.open(io.BytesIO(image))\n",
        "    img.show()\n",
        "    img.convert('RGB').save(imagePath)\n",
        "\n",
        "    input_fname = imagePath\n",
        "    output_fname = '/content/starwars_meme.jpg'\n",
        "\n",
        "    allow_resize = False\n",
        "\n",
        "    for fname in [input_fname, output_fname]:\n",
        "      jpg_fname = fname.replace('.png', '.jpg')\n",
        "\n",
        "      try:\n",
        "        img = Image.open(fname)\n",
        "      except FileNotFoundError:\n",
        "        continue\n",
        "\n",
        "      new_size = get_new_size(img.size, max_allowed_length = 1024)\n",
        "      if allow_resize:\n",
        "        print(f'Resizing from {img.size} to {new_size}')\n",
        "        img.resize(new_size)\n",
        "\n",
        "      print(f'Saving to {jpg_fname}')\n",
        "      img.convert('RGB').save(jpg_fname)\n",
        "\n",
        "    jpg_input = input_fname.replace('.png', '.jpg')\n",
        "    jpg_output = output_fname.replace('.png', '.jpg')\n",
        "\n",
        "    %cd /content/SimSwap\n",
        "    %mkdir -p /content/output/single/\n",
        "\n",
        "    output_file_path='/content/'+random_string+\"_output.jpg\"\n",
        "\n",
        "    !python test_wholeimage_swapsingle.py \\\n",
        "     --no_simswaplogo \\\n",
        "     --use_mask \\\n",
        "     --crop_size 512 \\\n",
        "     --isTrain false  --name people \\\n",
        "     --Arc_path arcface_model/arcface_checkpoint.tar \\\n",
        "     --pic_a_path {jpg_input} \\\n",
        "     --pic_b_path {jpg_output} \\\n",
        "     --output_path /content/output/single/ > /dev/null\n",
        "\n",
        "    !rm {jpg_input}\n",
        "    !rm {jpg_output}\n",
        "\n",
        "    \n",
        "\n",
        "    print(\"done\")\n",
        "\n",
        "    return {\n",
        "        \"field\": \"value\"\n",
        "    }\n",
        "\n",
        "app.run()"
      ],
      "metadata": {
        "id": "JlSZp7VxMllA"
      },
      "execution_count": null,
      "outputs": []
    }
  ]
}